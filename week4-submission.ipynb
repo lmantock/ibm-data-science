{
 "cells": [
  {
   "cell_type": "markdown",
   "id": "9ab0fb36-e611-4803-bd36-4e90c9f7cd3d",
   "metadata": {},
   "source": [
    "# IBM Data Science - Week 4 Submission"
   ]
  },
  {
   "cell_type": "markdown",
   "id": "3db2f40f-9104-42bd-9a64-10d34d31d6be",
   "metadata": {},
   "source": [
    "## Introduction\n",
    "I'm interested in Data Science because I want to use it to build interesting products and tools.\n",
    "This notebook is designed with the intention of showcasing material from the IBM Data Science \"Tools for Data Science\" module."
   ]
  },
  {
   "cell_type": "markdown",
   "id": "33d5519f-b5a3-4ab3-a08a-d65b12942046",
   "metadata": {},
   "source": [
    "## Examples of Data Science Languages\n",
    "Here is a non-exhaustive list of languages used in Data Science\n",
    "- Python\n",
    "- R\n",
    "- SQL"
   ]
  },
  {
   "cell_type": "markdown",
   "id": "7837d465-115c-4058-ac3c-b15798770f12",
   "metadata": {},
   "source": [
    "## Example Data Science Libraries\n",
    "Here is a non-exhaustive list of libraries used in Data Science\n",
    "### Data Mining\n",
    "- Scrapy\n",
    "- BeautifulSoup\n",
    "\n",
    "### Data Processing & Modelling\n",
    "- Pandas\n",
    "- NumPy\n",
    "- SciPy\n",
    "\n",
    "### Data Visualisation\n",
    "- Matplotlib\n",
    "- Bokeh\n",
    "- Plotly"
   ]
  },
  {
   "cell_type": "markdown",
   "id": "77419f05-c7a5-447b-a9ef-35a5f5b5e9dd",
   "metadata": {},
   "source": [
    "## Example Data Science Tools\n",
    "Here is a non-exhaustive list of tools used in Data Science\n",
    "\n",
    "|Tool | Usage | Example use case |\n",
    "|:--- |:--- |:--- |\n",
    "|Jupyter Notebook | Open source, allows data scientists to create easily shareable documents containing code, equations, visualisations, and text | Easily reproducible experiments and results |\n",
    "|RStudio | An integrated development environment, and a suite of tools that includes readily available packages for data analysis | Often used by academics, healthcare and government users |\n",
    "|IBM Watson Studio | Has tools covering the full spectrum of Data Science needs | Cleaning, processing, visualising data, machine learning |"
   ]
  },
  {
   "cell_type": "markdown",
   "id": "56875e51-8e1b-4551-9d44-d18f688401a0",
   "metadata": {},
   "source": [
    "## Evaluating Basic Arithmetic Expressions\n",
    "You can use Jupyter Notebook to evaluate simple arithmetic expressions such as:"
   ]
  },
  {
   "cell_type": "code",
   "execution_count": 1,
   "id": "c12fee26-8bc7-4bfe-a38e-71609f490b31",
   "metadata": {},
   "outputs": [
    {
     "data": {
      "text/plain": [
       "100"
      ]
     },
     "execution_count": 1,
     "metadata": {},
     "output_type": "execute_result"
    }
   ],
   "source": [
    "20 + 40 * 2"
   ]
  },
  {
   "cell_type": "markdown",
   "id": "62a5aea7-cc23-4f70-b59b-a924af4a4403",
   "metadata": {},
   "source": [
    "You can also assign values to variables:"
   ]
  },
  {
   "cell_type": "code",
   "execution_count": 2,
   "id": "5aa6ebac-2523-4ba0-a9db-41e94abe8972",
   "metadata": {},
   "outputs": [
    {
     "name": "stdout",
     "output_type": "stream",
     "text": [
      "4\n",
      "6\n"
     ]
    }
   ],
   "source": [
    "a = 2 * 2\n",
    "b = a + 2\n",
    "\n",
    "print(a)\n",
    "\n",
    "print(b)"
   ]
  },
  {
   "cell_type": "markdown",
   "id": "f83202be-fef8-4ff0-ada5-0a9728af663e",
   "metadata": {},
   "source": [
    "## Converting minutes to hours\n",
    "You can use the variables example below to create a simple equation that converts minutes to hours:"
   ]
  },
  {
   "cell_type": "code",
   "execution_count": 3,
   "id": "f54a26b7-aeb8-4f1a-95ad-ee5dbf77f446",
   "metadata": {},
   "outputs": [
    {
     "name": "stdout",
     "output_type": "stream",
     "text": [
      "1.0666666666666667\n"
     ]
    }
   ],
   "source": [
    "mins = 64\n",
    "\n",
    "hours = mins / 60\n",
    "\n",
    "print(hours)"
   ]
  },
  {
   "cell_type": "markdown",
   "id": "2c56cfc9-1c5f-4946-90ee-4cb08d806660",
   "metadata": {},
   "source": [
    "## Objectives\n",
    "This is a list of the objectives of this document.\n",
    "- Show examples of Data Science languages, libraries, and tools\n",
    "- Show examples of evaluating basic arithmetic expressions\n",
    "- Show examples of code used to convert minutes into hours"
   ]
  },
  {
   "cell_type": "markdown",
   "id": "c41783b0-135b-4dd1-aa1c-747793b7af5d",
   "metadata": {},
   "source": [
    "## Author\n",
    "**Leon Mantock**"
   ]
  },
  {
   "cell_type": "code",
   "execution_count": null,
   "id": "f0419602-a60d-4705-9337-581fc3ca7c39",
   "metadata": {},
   "outputs": [],
   "source": []
  }
 ],
 "metadata": {
  "kernelspec": {
   "display_name": "Python",
   "language": "python",
   "name": "conda-env-python-py"
  },
  "language_info": {
   "codemirror_mode": {
    "name": "ipython",
    "version": 3
   },
   "file_extension": ".py",
   "mimetype": "text/x-python",
   "name": "python",
   "nbconvert_exporter": "python",
   "pygments_lexer": "ipython3",
   "version": "3.7.12"
  }
 },
 "nbformat": 4,
 "nbformat_minor": 5
}
