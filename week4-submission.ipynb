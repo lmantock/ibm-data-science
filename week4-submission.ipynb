{
  "metadata": {
    "language_info": {
      "codemirror_mode": {
        "name": "python",
        "version": 3
      },
      "file_extension": ".py",
      "mimetype": "text/x-python",
      "name": "python",
      "nbconvert_exporter": "python",
      "pygments_lexer": "ipython3",
      "version": "3.8"
    },
    "kernelspec": {
      "name": "python",
      "display_name": "Python (Pyodide)",
      "language": "python"
    }
  },
  "nbformat_minor": 4,
  "nbformat": 4,
  "cells": [
    {
      "cell_type": "markdown",
      "source": "# My Jupyter Notebook on IBM Watson Studio",
      "metadata": {}
    },
    {
      "cell_type": "markdown",
      "source": "**Leon Mantock**",
      "metadata": {}
    },
    {
      "cell_type": "markdown",
      "source": "_I'm interested in Data Science because I want to use it to build interesting products and tools._",
      "metadata": {}
    },
    {
      "cell_type": "markdown",
      "source": "### The cell below will contain a basic calculation that shows the value of Pi.",
      "metadata": {}
    },
    {
      "cell_type": "code",
      "source": "import numpy as np\n \nprint( np.pi )",
      "metadata": {
        "trusted": true
      },
      "execution_count": 1,
      "outputs": [
        {
          "name": "stdout",
          "text": "3.141592653589793\n",
          "output_type": "stream"
        }
      ]
    },
    {
      "cell_type": "markdown",
      "source": "---\n- One\n- Two\n- Three\n\n1. One\n2. Two\n3. Three\n\n### Block quote example\n\n> Block quote\n\n\n### Example of syntax highlighted code from Jupyter intro\n```python\nfrom matplotlib import pyplot as plt\nimport numpy as np\n\n# Generate 100 random data points along 3 dimensions\nx, y, scale = np.random.randn(3, 100)\nfig, ax = plt.subplots()\n\n# Map each onto a scatterplot we'll create with Matplotlib\nax.scatter(x=x, y=y, c=scale, s=np.abs(scale)*500)\nax.set(title=\"Some random data, created with JupyterLab!\")\nplt.show()\n```\n\n\n",
      "metadata": {}
    },
    {
      "cell_type": "code",
      "source": "",
      "metadata": {},
      "execution_count": null,
      "outputs": []
    }
  ]
}